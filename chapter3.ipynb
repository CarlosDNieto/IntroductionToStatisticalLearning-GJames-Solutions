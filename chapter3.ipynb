{
 "cells": [
  {
   "cell_type": "code",
   "execution_count": 1,
   "metadata": {},
   "outputs": [],
   "source": [
    "import numpy as np\n",
    "import matplotlib.pyplot as plt\n",
    "import pandas as pd\n",
    "from sklearn.linear_model import LinearRegression"
   ]
  },
  {
   "cell_type": "markdown",
   "metadata": {},
   "source": [
    "\n",
    "# Exercises Chapter 3 - ITSL -James\n",
    "\n",
    "---\n",
    "\n",
    "\n",
    "## Linear Regression\n",
    "\n",
    "---"
   ]
  },
  {
   "cell_type": "markdown",
   "metadata": {},
   "source": [
    "---\n",
    "## _Conceptual_"
   ]
  },
  {
   "cell_type": "markdown",
   "metadata": {},
   "source": [
    "### Excercise 1)\n",
    "Describe the null hypotheses to which the p-values given in Table 3.4\n",
    "correspond. Explain what conclusions you can draw based on these\n",
    "p-values. Your explanation should be phrased in terms of sales, TV,\n",
    "radio, and newspaper, rather than in terms of the coefficients of the\n",
    "linear model.\n",
    "\n",
    "---\n",
    "\n",
    "### _Solution:_\n",
    "\n",
    "- **Intercept:** $p-value < 0.001$ <br>\n",
    "We reject the null hipothesis $H_0: \\beta_{0} = 0$ because the p value is significantly litte.\n",
    "\n",
    "\n",
    "- **TV:** $p-value < 0.001$<br>\n",
    "We see that the p value is very little so, as with the intercept, we reject $H_0$ for TV, i.e. the budget we use for TV publicity is statistically significant and it impacts over the sales.\n",
    "\n",
    "\n",
    "- **radio:** $pvalue < 0.001$<br>\n",
    "Similarly, we reject the null hipothesis in the case of the radio, and this means that the budget we destinate to radio advertising has an impact in tha sales.\n",
    "\n",
    "- **newspaper:** $pvalue = 0.8599$<br>\n",
    "This p value is big, so it is not significant for our response variable, i.e. If we fix an arbitrary value for the radio and TV budgets, the newspaper budget doesn't impact the sales ovel all. This means that we can take out this variable of the model.\n",
    "\n",
    "---"
   ]
  },
  {
   "cell_type": "markdown",
   "metadata": {},
   "source": [
    "### Excercise 2)\n",
    "Carefully explain the differences between the KNN classifier and KNN\n",
    "regression methods.\n",
    "\n",
    "---\n",
    "\n",
    "### _Solution:_\n",
    "\n",
    "- **KNN Classificator:** This has a cualitative response variable and it trys to predict the class where the response belongs computing the local probability.\n",
    "\n",
    "\n",
    "- **KNN Regresor:** This has a cuantitative response variable and it trys to predict the value of that response computing the local mean.\n",
    "\n",
    "\n",
    "---"
   ]
  },
  {
   "cell_type": "markdown",
   "metadata": {},
   "source": [
    "### Excercise 3)\n",
    "Suppose we have a data set with five predictors, X1 =GPA, X2 = IQ, X3 = Gender (1 for Female and 0 forMale), X4 = Interaction between GPA and IQ, and X5 = Interaction between GPA and Gender. The response is starting salary after graduation (in thousands of dollars). Suppose we use least squares to fit the model, and get ˆβ0 = 50, ˆβ1 = 20, ˆβ2 = 0.07, ˆβ3 = 35, ˆβ4 = 0.01, ˆβ5 = −10.\n",
    "\n",
    "---\n"
   ]
  },
  {
   "cell_type": "markdown",
   "metadata": {},
   "source": [
    "### _Solution:_\n",
    "\n",
    "- **a)** Which answer is correct, and why?\n",
    "    1. For a fixed value of IQ and GPA, males earn more on average\n",
    "than females.\n",
    "    - For a fixed value of IQ and GPA, females earn more on\n",
    "average than males.\n",
    "    - For a fixed value of IQ and GPA, males earn more on average\n",
    "than females provided that the GPA is high enough.\n",
    "    - For a fixed value of IQ and GPA, females earn more on\n",
    "average than males provided that the GPA is high enough.\n",
    "\n",
    "\n",
    "In order to answer this question first, we declare 2 functions to compute the salary after grad for both: women and men. We compute the salary in terms of the model that is raised in the problem, fixing an IQ to 80 ($x_2 = 80$)\n",
    "\n",
    "$$\n",
    "\\hat{y} = 50 + 20x_1 + 0.07x_2 +35x_3 +0.01x_4 - 10x_5\n",
    "$$\n",
    "\n",
    "Where; $x_4 = x_1x_2, \\; x_5=x_1x_3$"
   ]
  },
  {
   "cell_type": "code",
   "execution_count": 45,
   "metadata": {},
   "outputs": [],
   "source": [
    "# functions\n",
    "def salario_hombres(gpas):\n",
    "    sal = []\n",
    "    for gpa in gpas:\n",
    "        sal.append(60+20*gpa+0.07*80+35*0+0.01*gpa*80-10*0*gpa)\n",
    "    return sal\n",
    "\n",
    "def salario_mujeres(gpas):\n",
    "    salarios = []\n",
    "    for gpa in gpas:\n",
    "        salarios.append(60+20*gpa+0.07*80+35*1+0.01*gpa*80-10*1*gpa)\n",
    "    return salarios"
   ]
  },
  {
   "cell_type": "markdown",
   "metadata": {},
   "source": [
    "Now that we have a way to compute our predictions , we need our array of possible GPA's, in this case:\n",
    "\n",
    "``gpas = [1.0, 1.1, 1.2, ..., 4.0]``"
   ]
  },
  {
   "cell_type": "code",
   "execution_count": 50,
   "metadata": {
    "scrolled": true
   },
   "outputs": [],
   "source": [
    "#GPA's\n",
    "gpas = np.linspace(1,4,28)"
   ]
  },
  {
   "cell_type": "markdown",
   "metadata": {},
   "source": [
    "In the chart below, we can see that the salary for women is higher until the GPA is equal to 3.5, so the answer to a) is **4.For a fixed value of IQ and GPA, females earn more on average than males provided that the GPA is high enough.**"
   ]
  },
  {
   "cell_type": "code",
   "execution_count": 53,
   "metadata": {
    "scrolled": false
   },
   "outputs": [
    {
     "data": {
      "text/plain": [
       "<matplotlib.legend.Legend at 0x26bc1642b88>"
      ]
     },
     "execution_count": 53,
     "metadata": {},
     "output_type": "execute_result"
    },
    {
     "data": {
      "image/png": "[encoded data removed]",
      "text/plain": [
       "<Figure size 432x288 with 1 Axes>"
      ]
     },
     "metadata": {
      "needs_background": "light"
     },
     "output_type": "display_data"
    }
   ],
   "source": [
    "plt.plot(gpas,salario_hombres(gpas))\n",
    "plt.plot(gpas,salario_mujeres(gpas))\n",
    "plt.xlabel(\"GPA\")\n",
    "plt.ylabel(\"Salary after grad (thousands USD)\")\n",
    "plt.legend([\"male\",\"female\"])"
   ]
  },
  {
   "cell_type": "markdown",
   "metadata": {},
   "source": [
    "**b)** Predict the salary of a female with IQ of 110 and a GPA of 4.0.\n",
    "\n",
    "---\n",
    "\n",
    "\n",
    "To compute this, I made the following function:"
   ]
  },
  {
   "cell_type": "code",
   "execution_count": 52,
   "metadata": {},
   "outputs": [
    {
     "data": {
      "text/plain": [
       "147.1"
      ]
     },
     "execution_count": 52,
     "metadata": {},
     "output_type": "execute_result"
    }
   ],
   "source": [
    "def female_salary(gpa,iq):\n",
    "    \"\"\"\n",
    "    Function that returns the predicted salary with the model of the excercise 2\n",
    "    \n",
    "    args:\n",
    "        gpas: float, gpa grade of the person\n",
    "        iq: float, IQ of the person\n",
    "        \n",
    "    return:\n",
    "        salary: float, predicted salary of a female afeter grad\n",
    "    \"\"\"\n",
    "    salary = (60+20*gpa+0.07*iq+35*1+0.01*gpa*iq-10*1*gpa)\n",
    "    return salary\n",
    "\n",
    "female_salary(4.0,110)"
   ]
  },
  {
   "cell_type": "markdown",
   "metadata": {},
   "source": [
    "Therefore, the searched salary is: **147.1 USD**\n",
    "\n",
    "---"
   ]
  },
  {
   "cell_type": "markdown",
   "metadata": {},
   "source": [
    "**c)** True or false: Since the coefficient for the GPA/IQ interaction\n",
    "term is very small, there is very little evidence of an interaction\n",
    "effect. Justify your answer.\n",
    "\n",
    "\n",
    "**False**. Because the coefficient of the interaction term can be interpreted as the increase in the effectiveness of GPA for one unit of increase in IQ (or vice-versa). So if we increase 1 IQ it is likely to increase the GPA in 0.01, and with that 0.01 in GPA the Salary predicted can increase singificantly."
   ]
  },
  {
   "cell_type": "markdown",
   "metadata": {},
   "source": [
    "### Exercise 4)\n",
    "I collect a set of data (n = 100 observations) containing a single\n",
    "predictor and a quantitative response. I then fit a linear regression\n",
    "model to the data, as well as a separate cubic regression, i.e. $Y =\n",
    "\\beta_0 + \\beta_1X + \\beta_2X^2 + \\beta_3X^3 + \\epsilon$.\n",
    "\n",
    "---\n",
    "**a)** Suppose that the true relationship between X and Y is linear,\n",
    "i.e. $Y = \\beta_0 + \\beta_1X + \\epsilon$. Consider the training residual sum of\n",
    "squares (RSS) for the linear regression, and also the training\n",
    "RSS for the cubic regression. Would we expect one to be lower\n",
    "than the other, would we expect them to be the same, or is there\n",
    "not enough information to tell? Justify your answer.\n"
   ]
  },
  {
   "cell_type": "code",
   "execution_count": 69,
   "metadata": {},
   "outputs": [],
   "source": [
    "# Real Model Y = 11.5 + 3.4X + e\n",
    "n_samples = 100\n",
    "errors = np.random.normal(0,5,n_samples)\n",
    "X = 20*np.random.random_sample(n_samples)\n",
    "F_X = 11.5 + 3.4*X\n",
    "Y =  F_X + errors"
   ]
  },
  {
   "cell_type": "code",
   "execution_count": 71,
   "metadata": {},
   "outputs": [],
   "source": [
    "# Fitted Linear Model \n",
    "lm = LinearRegression()\n",
    "lm.fit(X.reshape(-1,1),Y)\n",
    "beta_0 = lm.intercept_\n",
    "beta_1 = lm.coef_\n",
    "Y_est = beta_0 + beta_1*X"
   ]
  },
  {
   "cell_type": "code",
   "execution_count": 72,
   "metadata": {},
   "outputs": [],
   "source": [
    "# Fitted Cubic Model\n",
    "polyfit = np.polyfit(X,Y,3)\n",
    "X_cubic = np.array([X,X**2,X**3])\n",
    "Ycubic_est = polyfit[3] + polyfit[2]*X + polyfit[1]*X**2 + polyfit[0]*X**3"
   ]
  },
  {
   "cell_type": "code",
   "execution_count": 73,
   "metadata": {
    "scrolled": true
   },
   "outputs": [
    {
     "data": {
      "text/plain": [
       "<matplotlib.legend.Legend at 0x1dedacea1c8>"
      ]
     },
     "execution_count": 73,
     "metadata": {},
     "output_type": "execute_result"
    },
    {
     "data": {
      "image/png": "[encoded data removed]",
      "text/plain": [
       "<Figure size 864x360 with 1 Axes>"
      ]
     },
     "metadata": {
      "needs_background": "light"
     },
     "output_type": "display_data"
    }
   ],
   "source": [
    "# Chart\n",
    "plt.figure(figsize=(12,5))\n",
    "plt.scatter(X,Y)\n",
    "plt.plot(X,F_X, color='black')\n",
    "plt.plot(X,Y_est.transpose(),color='green', linestyle='dashed', alpha=0.75)\n",
    "plt.scatter(X,Ycubic_est.transpose(), color='red')\n",
    "plt.legend(['Real f(X)','Linear Regression Fit','Observations', 'Cubic Fit'])"
   ]
  },
  {
   "cell_type": "code",
   "execution_count": 74,
   "metadata": {},
   "outputs": [
    {
     "data": {
      "text/plain": [
       "2668.556378056991"
      ]
     },
     "execution_count": 74,
     "metadata": {},
     "output_type": "execute_result"
    }
   ],
   "source": [
    "# RSS of the linear model \n",
    "sum((Y-Y_est)**2)"
   ]
  },
  {
   "cell_type": "code",
   "execution_count": 75,
   "metadata": {},
   "outputs": [
    {
     "data": {
      "text/plain": [
       "2537.706002366732"
      ]
     },
     "execution_count": 75,
     "metadata": {},
     "output_type": "execute_result"
    }
   ],
   "source": [
    "# RSS of the cubic model\n",
    "sum((Y-Ycubic_est)**2)"
   ]
  },
  {
   "cell_type": "markdown",
   "metadata": {},
   "source": [
    "Clearly, even if we use the same exact linear dataset for each iteration, the tendency is to a progressive decrease in RSS with increasing polynomial degree in the model. But if we test the 2 models with new data, what model would be better?"
   ]
  },
  {
   "cell_type": "code",
   "execution_count": 78,
   "metadata": {},
   "outputs": [],
   "source": [
    "errors_test = np.random.normal(0,5,20)\n",
    "X_test = 20*np.random.random_sample(20)\n",
    "F_X_test = 11.5 + 3.4*X_test\n",
    "Y_test = F_X_test + errors_test"
   ]
  },
  {
   "cell_type": "code",
   "execution_count": 79,
   "metadata": {},
   "outputs": [],
   "source": [
    "Y_est_test = beta_0 + beta_1*X_test\n",
    "Ycubic_est_test = polyfit[3] + polyfit[2]*X_test + polyfit[1]*X_test**2 + polyfit[0]*X_test**3"
   ]
  },
  {
   "cell_type": "code",
   "execution_count": 80,
   "metadata": {
    "scrolled": true
   },
   "outputs": [
    {
     "data": {
      "text/plain": [
       "565.7330555596639"
      ]
     },
     "execution_count": 80,
     "metadata": {},
     "output_type": "execute_result"
    }
   ],
   "source": [
    "# Test RSS of the linear model\n",
    "sum((Y_test-Y_est_test)**2)"
   ]
  },
  {
   "cell_type": "code",
   "execution_count": 81,
   "metadata": {},
   "outputs": [
    {
     "data": {
      "text/plain": [
       "628.4725465367568"
      ]
     },
     "execution_count": 81,
     "metadata": {},
     "output_type": "execute_result"
    }
   ],
   "source": [
    "# Test RSS of the cubic model\n",
    "sum((Y_test-Ycubic_est_test)**2)"
   ]
  },
  {
   "cell_type": "markdown",
   "metadata": {},
   "source": [
    "So, the linear model makes less mistakes with new data, that means that although the cubic model has  lesser RRS than the linear model in the training data, the cubic is overfitted and with new data it is less accurate than the linear."
   ]
  }
 ],
 "metadata": {
  "kernelspec": {
   "display_name": "Python 3",
   "language": "python",
   "name": "python3"
  },
  "language_info": {
   "codemirror_mode": {
    "name": "ipython",
    "version": 3
   },
   "file_extension": ".py",
   "mimetype": "text/x-python",
   "name": "python",
   "nbconvert_exporter": "python",
   "pygments_lexer": "ipython3",
   "version": "3.7.4"
  },
  "latex_envs": {
   "LaTeX_envs_menu_present": true,
   "autoclose": false,
   "autocomplete": true,
   "bibliofile": "biblio.bib",
   "cite_by": "apalike",
   "current_citInitial": 1,
   "eqLabelWithNumbers": true,
   "eqNumInitial": 1,
   "hotkeys": {
    "equation": "Ctrl-E",
    "itemize": "Ctrl-I"
   },
   "labels_anchors": false,
   "latex_user_defs": false,
   "report_style_numbering": false,
   "user_envs_cfg": false
  }
 },
 "nbformat": 4,
 "nbformat_minor": 2
}
