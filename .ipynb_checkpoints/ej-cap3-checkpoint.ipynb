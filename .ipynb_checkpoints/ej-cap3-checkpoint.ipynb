{
 "cells": [
  {
   "cell_type": "markdown",
   "metadata": {},
   "source": [
    "Martes 18 de febrero de 2020\n",
    "\n",
    "# Ejercicios del capítulo 3 - ITSL -James\n",
    "## Regresión lineal"
   ]
  },
  {
   "cell_type": "markdown",
   "metadata": {},
   "source": [
    "---\n",
    "## _Conceptual_"
   ]
  },
  {
   "cell_type": "markdown",
   "metadata": {},
   "source": [
    "\\begin{exercise}\n",
    "Describir la hipótesis nula para cada uno de los p-values en la tabla 3.4. Explica qué conclusiones se pueden deducir a partir de estos p-values. Tu explicación tiene que estar basada en *ventas, TV, radio y periodico*; más que en términos de los coeficientes del modelo lineal.\n",
    "\\end{exercise}\n",
    "\n",
    "\n",
    "\n",
    "\\begin{proof}\n",
    "\n",
    "- **Intercepto:** $p-value < 0.001$ <br>\n",
    "Como el p valor es menot a 0.001 entonces rechazamos la hipótesis nula $H_0: \\beta_{0} = 0$.\n",
    "\n",
    "\n",
    "- **TV:** $p-value < 0.001$<br>\n",
    "Como el p valor es menor a 0.001 entonces rechazamos la hipótesis nula, es decir, el presupuesto que destinamos a la publicidad por televisión es estadísticamente significante para impactar sobre las ventas.\n",
    "\n",
    "\n",
    "- **radio:** $pvalue < 0.001$<br>\n",
    "Por lo que rechazamos la hipótesis nula y, al igual que con la TV, el presupuesto que destinamos al radio también es significante sobre las ventas.\n",
    "\n",
    "\n",
    "- **periodico:** $pvalue = 0.8599$<br>\n",
    "Lo que significa que el periódico no es significante, por lo que el estimador de esta covariable es casi cero. Por lo tanto podemos quitar esta variable de nuestro modelo lineal múltiple.\\begin{exercise}\\label{ex:}\n",
    "\n",
    "\n",
    "\\end{proof}\n"
   ]
  },
  {
   "cell_type": "markdown",
   "metadata": {},
   "source": [
    "\\begin{exercise}\n",
    "Cuidadosamente explica las diferencias entre los métodos de clasificador KNN y el regresor KNN\n",
    "\\end{exercise}\n",
    "\n",
    "\\begin{proof}\n",
    "\n",
    "- **Clasificador KNN:** \n",
    "\n",
    "\\end{proof}\n",
    "\n",
    "\n"
   ]
  },
  {
   "cell_type": "code",
   "execution_count": null,
   "metadata": {},
   "outputs": [],
   "source": []
  }
 ],
 "metadata": {
  "kernelspec": {
   "display_name": "Python 3",
   "language": "python",
   "name": "python3"
  },
  "language_info": {
   "codemirror_mode": {
    "name": "ipython",
    "version": 3
   },
   "file_extension": ".py",
   "mimetype": "text/x-python",
   "name": "python",
   "nbconvert_exporter": "python",
   "pygments_lexer": "ipython3",
   "version": "3.7.4"
  },
  "latex_envs": {
   "LaTeX_envs_menu_present": true,
   "autoclose": false,
   "autocomplete": true,
   "bibliofile": "biblio.bib",
   "cite_by": "apalike",
   "current_citInitial": 1,
   "eqLabelWithNumbers": true,
   "eqNumInitial": 1,
   "hotkeys": {
    "equation": "Ctrl-E",
    "itemize": "Ctrl-I"
   },
   "labels_anchors": false,
   "latex_user_defs": false,
   "report_style_numbering": false,
   "user_envs_cfg": false
  }
 },
 "nbformat": 4,
 "nbformat_minor": 2
}
