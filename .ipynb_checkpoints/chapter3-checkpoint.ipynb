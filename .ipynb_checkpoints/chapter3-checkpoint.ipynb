{
 "cells": [
  {
   "cell_type": "code",
   "execution_count": 36,
   "metadata": {},
   "outputs": [],
   "source": [
    "import numpy as np\n",
    "import matplotlib.pyplot as plt\n",
    "import pandas as pd"
   ]
  },
  {
   "cell_type": "markdown",
   "metadata": {},
   "source": [
    "\n",
    "# Exercises Chapter 3 - ITSL -James\n",
    "\n",
    "---\n",
    "\n",
    "\n",
    "## Linear Regression\n",
    "\n",
    "---"
   ]
  },
  {
   "cell_type": "markdown",
   "metadata": {},
   "source": [
    "---\n",
    "## _Conceptual_"
   ]
  },
  {
   "cell_type": "markdown",
   "metadata": {},
   "source": [
    "\\begin{exercise}\n",
    "Describe the null hypotheses to which the p-values given in Table 3.4\n",
    "correspond. Explain what conclusions you can draw based on these\n",
    "p-values. Your explanation should be phrased in terms of sales, TV,\n",
    "radio, and newspaper, rather than in terms of the coefficients of the\n",
    "linear model.\n",
    "\\end{exercise}\n",
    "\n",
    "---\n",
    "\n",
    "\n",
    "\\begin{proof}\n",
    "\n",
    "- **Intercept:** $p-value < 0.001$ <br>\n",
    "We reject the null hipothesis $H_0: \\beta_{0} = 0$ because the p value is significantly litte.\n",
    "\n",
    "\n",
    "- **TV:** $p-value < 0.001$<br>\n",
    "We see that the p value is very little so, as with the intercept, we reject $H_0$ for TV, i.e. the budget we use for TV publicity is statistically significant and it impacts over the sales.\n",
    "\n",
    "\n",
    "- **radio:** $pvalue < 0.001$<br>\n",
    "Similarly, we reject the null hipothesis in the case of the radio, and this means that the budget we destinate to radio advertising has an impact in tha sales.\n",
    "\n",
    "- **newspaper:** $pvalue = 0.8599$<br>\n",
    "This p value is big, so it is not significant for our response variable, i.e. If we fix an arbitrary value for the radio and TV budgets, the newspaper budget doesn't impact the sales ovel all. This means that we can take out this variable of the model.\n",
    "\n",
    "\\end{proof}\n"
   ]
  },
  {
   "cell_type": "markdown",
   "metadata": {},
   "source": [
    "\\begin{exercise}\n",
    "Carefully explain the differences between the KNN classifier and KNN\n",
    "regression methods.\n",
    "\\end{exercise}\n",
    "\n",
    "---\n",
    "\n",
    "\\begin{proof}\n",
    "\n",
    "- **KNN Classificator:** This has a cualitative response variable and it trys to predict the class where the response belongs computing the local probability.\n",
    "\n",
    "\n",
    "- **KNN Regresor:** This has a cuantitative response variable and it trys to predict the value of that response computing the local mean.\n",
    "\n",
    "\\end{proof}\n",
    "\n",
    "\n"
   ]
  },
  {
   "cell_type": "markdown",
   "metadata": {},
   "source": [
    "\\begin{exercise}\n",
    "Suppose we have a data set with five predictors, X1 =GPA, X2 = IQ, X3 = Gender (1 for Female and 0 forMale), X4 = Interaction between GPA and IQ, and X5 = Interaction between GPA and Gender. The response is starting salary after graduation (in thousands of dollars). Suppose we use least squares to fit the model, and get ˆβ0 = 50, ˆβ1 = 20, ˆβ2 = 0.07, ˆβ3 = 35, ˆβ4 = 0.01, ˆβ5 = −10.\n",
    "\\end{exercise}\n",
    "\n",
    "---\n"
   ]
  },
  {
   "cell_type": "markdown",
   "metadata": {},
   "source": [
    "- **a)** Which answer is correct, and why?\n",
    "    1. For a fixed value of IQ and GPA, males earn more on average\n",
    "than females.\n",
    "    - For a fixed value of IQ and GPA, females earn more on\n",
    "average than males.\n",
    "    - For a fixed value of IQ and GPA, males earn more on average\n",
    "than females provided that the GPA is high enough.\n",
    "    - For a fixed value of IQ and GPA, females earn more on\n",
    "average than males provided that the GPA is high enough.\n",
    "\n",
    "\n",
    "In order to answer this question first, we declare 2 functions to compute the salary after grad for both: women and men. We compute the salary in terms of the model that is raised in the problem, fixing an IQ to 80 ($x_2 = 80$)\n",
    "\n",
    "$$\n",
    "\\hat{y} = 50 + 20x_1 + 0.07x_2 +35x_3 +0.01x_4 - 10x_5\n",
    "$$\n",
    "\n",
    "Where; $x_4 = x_1x_2, \\; x_5=x_1x_3$"
   ]
  },
  {
   "cell_type": "code",
   "execution_count": 45,
   "metadata": {},
   "outputs": [],
   "source": [
    "# functions\n",
    "def salario_hombres(gpas):\n",
    "    sal = []\n",
    "    for gpa in gpas:\n",
    "        sal.append(60+20*gpa+0.07*80+35*0+0.01*gpa*80-10*0*gpa)\n",
    "    return sal\n",
    "\n",
    "def salario_mujeres(gpas):\n",
    "    salarios = []\n",
    "    for gpa in gpas:\n",
    "        salarios.append(60+20*gpa+0.07*80+35*1+0.01*gpa*80-10*1*gpa)\n",
    "    return salarios"
   ]
  },
  {
   "cell_type": "markdown",
   "metadata": {},
   "source": [
    "Now that we have a way to compute our predictions , we need our array of possible GPA's, in this case:\n",
    "\n",
    "``gpas = [1.0, 1.1, 1.2, ..., 4.0]``"
   ]
  },
  {
   "cell_type": "code",
   "execution_count": 50,
   "metadata": {
    "scrolled": true
   },
   "outputs": [],
   "source": [
    "#GPA's\n",
    "gpas = np.linspace(1,4,28)"
   ]
  },
  {
   "cell_type": "markdown",
   "metadata": {},
   "source": [
    "In the chart below, we can see that the salary for women is higher until the GPA is equal to 3.5, so the answer to a) is **4.For a fixed value of IQ and GPA, females earn more on average than males provided that the GPA is high enough.**"
   ]
  },
  {
   "cell_type": "code",
   "execution_count": 47,
   "metadata": {
    "scrolled": false
   },
   "outputs": [
    {
     "data": {
      "text/plain": [
       "<matplotlib.legend.Legend at 0x26bc171de08>"
      ]
     },
     "execution_count": 47,
     "metadata": {},
     "output_type": "execute_result"
    },
    {
     "data": {
      "image/png": "[encoded data removed]",
      "text/plain": [
       "<Figure size 432x288 with 1 Axes>"
      ]
     },
     "metadata": {
      "needs_background": "light"
     },
     "output_type": "display_data"
    }
   ],
   "source": [
    "plt.plot(gpas,salario_hombres(gpas))\n",
    "plt.plot(gpas,salario_mujeres(gpas))\n",
    "plt.xlabel(\"GPA\")\n",
    "plt.ylabel(\"Salary after grad (thousands USD)\")\n",
    "plt.legend([\"male\",\"female\"])"
   ]
  },
  {
   "cell_type": "code",
   "execution_count": null,
   "metadata": {},
   "outputs": [],
   "source": []
  }
 ],
 "metadata": {
  "kernelspec": {
   "display_name": "Python 3",
   "language": "python",
   "name": "python3"
  },
  "language_info": {
   "codemirror_mode": {
    "name": "ipython",
    "version": 3
   },
   "file_extension": ".py",
   "mimetype": "text/x-python",
   "name": "python",
   "nbconvert_exporter": "python",
   "pygments_lexer": "ipython3",
   "version": "3.7.4"
  },
  "latex_envs": {
   "LaTeX_envs_menu_present": true,
   "autoclose": false,
   "autocomplete": true,
   "bibliofile": "biblio.bib",
   "cite_by": "apalike",
   "current_citInitial": 1,
   "eqLabelWithNumbers": true,
   "eqNumInitial": 1,
   "hotkeys": {
    "equation": "Ctrl-E",
    "itemize": "Ctrl-I"
   },
   "labels_anchors": false,
   "latex_user_defs": false,
   "report_style_numbering": false,
   "user_envs_cfg": false
  }
 },
 "nbformat": 4,
 "nbformat_minor": 2
}
